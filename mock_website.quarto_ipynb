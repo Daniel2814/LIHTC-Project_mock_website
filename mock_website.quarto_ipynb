{
  "cells": [
    {
      "cell_type": "markdown",
      "metadata": {},
      "source": [
        "---\n",
        "title: \"Invest Atlanta Sponsored Program to Assist Developers\"\n",
        "Subtitle: \"Affordable Housing Tax Credit Map and Calculator\"\n",
        "author: Daniel Nickas\n",
        "format: html\n",
        "---\n",
        "\n",
        "## Affordable Housing Tax Credit Calculator\n",
        "\n",
        "#### Welcome to a mock up just to see if this actually runs. More to come soon!\n"
      ],
      "id": "9bb130f1"
    },
    {
      "cell_type": "code",
      "metadata": {},
      "source": [
        "#| echo: false\n",
        "#| fig-cap: \"Map of Georgia\"\n",
        "#| fig-align: center\n",
        "import geopandas as gpd\n",
        "import matplotlib.pyplot as plt\n",
        "\n",
        "shapefile_path = \"/Users/danielnickas/Downloads/cb_2022_us_state_20m/cb_2022_us_state_20m.shp\"\n",
        "states = gpd.read_file(shapefile_path)\n",
        "georgia = states[states[\"NAME\"] == \"Georgia\"]\n",
        "georgia.plot(edgecolor='black', color='lightblue')\n",
        "plt.title(\"Map of Georgia\")\n",
        "plt.axis('off')\n",
        "plt.show()"
      ],
      "id": "5b7a7084",
      "execution_count": null,
      "outputs": []
    }
  ],
  "metadata": {
    "kernelspec": {
      "name": "geoenv",
      "language": "python",
      "display_name": "geoenv",
      "path": "/Users/danielnickas/Library/Jupyter/kernels/geoenv"
    }
  },
  "nbformat": 4,
  "nbformat_minor": 5
}